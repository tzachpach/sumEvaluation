{
 "cells": [
  {
   "cell_type": "code",
   "execution_count": 11,
   "metadata": {
    "ExecuteTime": {
     "end_time": "2023-07-27T10:57:24.556334500Z",
     "start_time": "2023-07-27T10:57:24.511802200Z"
    }
   },
   "outputs": [],
   "source": [
    "from IDC.NLP.summac.summac.benchmark import SummaCBenchmark\n",
    "# import  IDC.NLP.summac.summac.run_baseline as utils_summac_benchmark\n",
    "# import random\n",
    "#\n",
    "# benchmark = SummaCBenchmark(benchmark_folder=\"/home/phillab/data/summac_benchmark/\", cut=\"test\")\n",
    "# benchmark.print_stats()"
   ]
  },
  {
   "cell_type": "markdown",
   "metadata": {},
   "source": [
    "# Table 2: Main Table of Results\n"
   ]
  },
  {
   "cell_type": "code",
   "execution_count": 1,
   "metadata": {
    "ExecuteTime": {
     "end_time": "2023-07-27T12:04:01.159995300Z",
     "start_time": "2023-07-27T12:03:38.180856700Z"
    }
   },
   "outputs": [
    {
     "name": "stderr",
     "output_type": "stream",
     "text": [
      "[nltk_data] Downloading package punkt to\n",
      "[nltk_data]     C:\\Users\\User\\AppData\\Roaming\\nltk_data...\n",
      "[nltk_data]   Package punkt is already up-to-date!\n"
     ]
    }
   ],
   "source": [
    "import sklearn, torch, numpy as np, json, os, tqdm, pandas as pd, nltk, seaborn as sns\n",
    "from IDC.NLP.summac.summac.model_guardrails import NERInaccuracyPenalty\n",
    "from IDC.NLP.summac.summac.model_summac import SummaCConv, SummaCZS\n",
    "from IDC.NLP.summac.summac.model_baseline import BaselineScorer\n",
    "# from model_entailment import EntailmentScorer\n",
    "# from model_classifier import Classifier\n",
    "from IDC.NLP.summac.summac.utils_scoring import ScorerWrapper\n",
    "\n",
    "use_cache = True\n",
    "scorers = [\n",
    "    {\"name\": \"NER\", \"model\": NERInaccuracyPenalty(), \"only_doc\": True, \"sign\": 1},\n",
    "#     {\"name\": \"MNLI\", \"model\": EntailmentScorer(model_card=\"roberta-large-mnli\", contradiction_idx=0), \"sign\": 1},\n",
    "    # {\"name\": \"FactCC-CLS\", \"model\": Classifier(model_card=\"roberta-base\", score_class=1, model_file=\"/home/phillab/models/cls_roberta-base_factcc_first_0_f1_0.4766.bin\"), \"sign\": 1, \"only_doc\": True},\n",
    "    {\"name\": \"DAE\", \"model\": BaselineScorer(model=\"dae\"), \"only_doc\": True, \"sign\": 1},\n",
    "    {\"name\": \"FEQA\", \"model\": BaselineScorer(model=\"feqa\"), \"only_doc\": True, \"sign\": 1},\n",
    "    {\"name\": \"QuestEval\", \"model\": BaselineScorer(model=\"questeval\"), \"only_doc\": True, \"sign\": 1},\n",
    "    {\"name\": \"SummaC-ZS-VITC-L\", \"model\": SummaCZS(granularity=\"sentence\", model_name=\"vitc\", imager_load_cache=use_cache), \"sign\": 1, \"only_doc\": True},\n",
    "    # {\"name\": \"SummaC-Histo-VITC-L\", \"model\": SummaCConv(models=[\"vitc\"], granularity=\"sentence\", start_file=\"/home/phillab/models/summac/vitc_sentence_percentile_e_bacc0.744.bin\", bins=\"percentile\", imager_load_cache=use_cache, device=\"cpu\"), \"sign\": 1, \"only_doc\": True},\n",
    "]\n",
    "\n",
    "scorer_doc = ScorerWrapper(scorers, scoring_method=\"sum\", max_batch_size=20, use_caching=True)\n",
    "scorer_para = ScorerWrapper([s for s in scorers if \"only_doc\" not in s], scoring_method=\"sum\", max_batch_size=20, use_caching=True)"
   ]
  },
  {
   "cell_type": "code",
   "execution_count": 12,
   "metadata": {
    "scrolled": false,
    "ExecuteTime": {
     "end_time": "2023-07-27T10:58:59.996897300Z",
     "start_time": "2023-07-27T10:58:59.966892400Z"
    }
   },
   "outputs": [
    {
     "ename": "NameError",
     "evalue": "name 'benchmark' is not defined",
     "output_type": "error",
     "traceback": [
      "\u001B[1;31m---------------------------------------------------------------------------\u001B[0m",
      "\u001B[1;31mNameError\u001B[0m                                 Traceback (most recent call last)",
      "Cell \u001B[1;32mIn[12], line 2\u001B[0m\n\u001B[0;32m      1\u001B[0m results \u001B[38;5;241m=\u001B[39m []\n\u001B[1;32m----> 2\u001B[0m \u001B[38;5;28;01mfor\u001B[39;00m dataset \u001B[38;5;129;01min\u001B[39;00m \u001B[43mbenchmark\u001B[49m\u001B[38;5;241m.\u001B[39mtasks:\n\u001B[0;32m      3\u001B[0m     \u001B[38;5;28mprint\u001B[39m(\u001B[38;5;124m\"\u001B[39m\u001B[38;5;124m======= \u001B[39m\u001B[38;5;132;01m%s\u001B[39;00m\u001B[38;5;124m ========\u001B[39m\u001B[38;5;124m\"\u001B[39m \u001B[38;5;241m%\u001B[39m (dataset[\u001B[38;5;124m\"\u001B[39m\u001B[38;5;124mname\u001B[39m\u001B[38;5;124m\"\u001B[39m]))\n\u001B[0;32m      4\u001B[0m     datas \u001B[38;5;241m=\u001B[39m dataset[\u001B[38;5;124m\"\u001B[39m\u001B[38;5;124mtask\u001B[39m\u001B[38;5;124m\"\u001B[39m]\n",
      "\u001B[1;31mNameError\u001B[0m: name 'benchmark' is not defined"
     ]
    }
   ],
   "source": [
    "from IDC.NLP.summac.summac import run_baseline, utils_scorer\n",
    "\n",
    "results = []\n",
    "for dataset in benchmark.tasks:\n",
    "    print(\"======= %s ========\" % (dataset[\"name\"]))\n",
    "    datas = dataset[\"task\"]\n",
    "    run_baseline.compute_doc_level(scorer_doc, datas)\n",
    "    utils_scorer.compute_paragraph_level(scorer_para, datas)\n",
    "    \n",
    "    labels = [d[\"label\"] for d in datas]\n",
    "    pred_labels = [k for k in datas[0].keys() if \"pred_\" in k]\n",
    "    for pred_label in pred_labels:\n",
    "        model_name, input_type = pred_label.replace(\"pred_\", \"\").split(\"|\")\n",
    "        preds = [d[pred_label] for d in datas]\n",
    "        scores = [d[pred_label.replace(\"pred_\", \"\")] for d in datas]\n",
    "        balanced_acc = sklearn.metrics.balanced_accuracy_score(labels, preds)\n",
    "        roc_auc = sklearn.metrics.roc_auc_score(labels, scores)\n",
    "        \n",
    "        results.append({\"model_name\": model_name, \"dataset_name\": dataset[\"name\"],\n",
    "                        \"input\": input_type, \"%s_bacc\" % (dataset[\"name\"]): balanced_acc,\n",
    "                        \"%s_roc_auc\" % (dataset[\"name\"]): roc_auc,\n",
    "                        \"labels\": labels, \"preds\": preds, \"scores\": scores})"
   ]
  },
  {
   "cell_type": "code",
   "execution_count": 13,
   "metadata": {
    "ExecuteTime": {
     "end_time": "2023-07-27T10:59:32.591446400Z",
     "start_time": "2023-07-27T10:59:32.533865600Z"
    }
   },
   "outputs": [
    {
     "ename": "FileNotFoundError",
     "evalue": "[Errno 2] No such file or directory: '/export/share/plaban/summac_cache/cache_vitc_sentence.json'",
     "output_type": "error",
     "traceback": [
      "\u001B[1;31m---------------------------------------------------------------------------\u001B[0m",
      "\u001B[1;31mFileNotFoundError\u001B[0m                         Traceback (most recent call last)",
      "Cell \u001B[1;32mIn[13], line 4\u001B[0m\n\u001B[0;32m      2\u001B[0m \u001B[38;5;28;01mfor\u001B[39;00m scorer \u001B[38;5;129;01min\u001B[39;00m scorers:\n\u001B[0;32m      3\u001B[0m     \u001B[38;5;28;01mif\u001B[39;00m \u001B[38;5;124m\"\u001B[39m\u001B[38;5;124mSummaC\u001B[39m\u001B[38;5;124m\"\u001B[39m \u001B[38;5;129;01min\u001B[39;00m scorer[\u001B[38;5;124m\"\u001B[39m\u001B[38;5;124mname\u001B[39m\u001B[38;5;124m\"\u001B[39m]:\n\u001B[1;32m----> 4\u001B[0m         \u001B[43mscorer\u001B[49m\u001B[43m[\u001B[49m\u001B[38;5;124;43m\"\u001B[39;49m\u001B[38;5;124;43mmodel\u001B[39;49m\u001B[38;5;124;43m\"\u001B[39;49m\u001B[43m]\u001B[49m\u001B[38;5;241;43m.\u001B[39;49m\u001B[43msave_imager_cache\u001B[49m\u001B[43m(\u001B[49m\u001B[43m)\u001B[49m\n",
      "File \u001B[1;32m~\\PycharmProjects\\IDC\\NLP\\summac\\summac\\model_summac.py:361\u001B[0m, in \u001B[0;36mSummaCZS.save_imager_cache\u001B[1;34m(self)\u001B[0m\n\u001B[0;32m    360\u001B[0m \u001B[38;5;28;01mdef\u001B[39;00m \u001B[38;5;21msave_imager_cache\u001B[39m(\u001B[38;5;28mself\u001B[39m):\n\u001B[1;32m--> 361\u001B[0m     \u001B[38;5;28;43mself\u001B[39;49m\u001B[38;5;241;43m.\u001B[39;49m\u001B[43mimager\u001B[49m\u001B[38;5;241;43m.\u001B[39;49m\u001B[43msave_cache\u001B[49m\u001B[43m(\u001B[49m\u001B[43m)\u001B[49m\n",
      "File \u001B[1;32m~\\PycharmProjects\\IDC\\NLP\\summac\\summac\\model_summac.py:210\u001B[0m, in \u001B[0;36mSummaCImager.save_cache\u001B[1;34m(self)\u001B[0m\n\u001B[0;32m    208\u001B[0m \u001B[38;5;28;01mdef\u001B[39;00m \u001B[38;5;21msave_cache\u001B[39m(\u001B[38;5;28mself\u001B[39m):\n\u001B[0;32m    209\u001B[0m     cache_cp \u001B[38;5;241m=\u001B[39m {\u001B[38;5;124m\"\u001B[39m\u001B[38;5;124m[///]\u001B[39m\u001B[38;5;124m\"\u001B[39m\u001B[38;5;241m.\u001B[39mjoin(k): v\u001B[38;5;241m.\u001B[39mtolist() \u001B[38;5;28;01mfor\u001B[39;00m k, v \u001B[38;5;129;01min\u001B[39;00m \u001B[38;5;28mself\u001B[39m\u001B[38;5;241m.\u001B[39mcache\u001B[38;5;241m.\u001B[39mitems()}\n\u001B[1;32m--> 210\u001B[0m     \u001B[38;5;28;01mwith\u001B[39;00m \u001B[38;5;28;43mopen\u001B[39;49m\u001B[43m(\u001B[49m\u001B[38;5;28;43mself\u001B[39;49m\u001B[38;5;241;43m.\u001B[39;49m\u001B[43mget_cache_file\u001B[49m\u001B[43m(\u001B[49m\u001B[43m)\u001B[49m\u001B[43m,\u001B[49m\u001B[43m \u001B[49m\u001B[38;5;124;43m\"\u001B[39;49m\u001B[38;5;124;43mw\u001B[39;49m\u001B[38;5;124;43m\"\u001B[39;49m\u001B[43m)\u001B[49m \u001B[38;5;28;01mas\u001B[39;00m f:\n\u001B[0;32m    211\u001B[0m         json\u001B[38;5;241m.\u001B[39mdump(cache_cp, f)\n",
      "\u001B[1;31mFileNotFoundError\u001B[0m: [Errno 2] No such file or directory: '/export/share/plaban/summac_cache/cache_vitc_sentence.json'"
     ]
    }
   ],
   "source": [
    "# If needed for caching\n",
    "for scorer in scorers:\n",
    "    if \"SummaC\" in scorer[\"name\"]:\n",
    "        scorer[\"model\"].save_imager_cache()"
   ]
  },
  {
   "cell_type": "markdown",
   "metadata": {},
   "source": [
    "## Balanced accuracy score"
   ]
  },
  {
   "cell_type": "code",
   "execution_count": 15,
   "metadata": {
    "scrolled": false,
    "ExecuteTime": {
     "end_time": "2023-07-27T11:00:09.249643400Z",
     "start_time": "2023-07-27T11:00:09.189126400Z"
    }
   },
   "outputs": [
    {
     "ename": "KeyError",
     "evalue": "'model_name'",
     "output_type": "error",
     "traceback": [
      "\u001B[1;31m---------------------------------------------------------------------------\u001B[0m",
      "\u001B[1;31mKeyError\u001B[0m                                  Traceback (most recent call last)",
      "Cell \u001B[1;32mIn[15], line 10\u001B[0m\n\u001B[0;32m      7\u001B[0m     \u001B[38;5;28;01mreturn\u001B[39;00m [\u001B[38;5;124m'\u001B[39m\u001B[38;5;124mfont-weight: bold\u001B[39m\u001B[38;5;124m'\u001B[39m \u001B[38;5;28;01mif\u001B[39;00m v \u001B[38;5;28;01melse\u001B[39;00m \u001B[38;5;124m'\u001B[39m\u001B[38;5;124m'\u001B[39m \u001B[38;5;28;01mfor\u001B[39;00m v \u001B[38;5;129;01min\u001B[39;00m is_max]\n\u001B[0;32m      9\u001B[0m df \u001B[38;5;241m=\u001B[39m pd\u001B[38;5;241m.\u001B[39mDataFrame(results)\n\u001B[1;32m---> 10\u001B[0m df \u001B[38;5;241m=\u001B[39m \u001B[43mdf\u001B[49m\u001B[38;5;241;43m.\u001B[39;49m\u001B[43mgroupby\u001B[49m\u001B[43m(\u001B[49m\u001B[43m[\u001B[49m\u001B[38;5;124;43m\"\u001B[39;49m\u001B[38;5;124;43mmodel_name\u001B[39;49m\u001B[38;5;124;43m\"\u001B[39;49m\u001B[43m,\u001B[49m\u001B[43m \u001B[49m\u001B[38;5;124;43m\"\u001B[39;49m\u001B[38;5;124;43minput\u001B[39;49m\u001B[38;5;124;43m\"\u001B[39;49m\u001B[43m]\u001B[49m\u001B[43m)\u001B[49m\u001B[38;5;241m.\u001B[39magg({\u001B[38;5;124m\"\u001B[39m\u001B[38;5;132;01m%s\u001B[39;00m\u001B[38;5;124m_bacc\u001B[39m\u001B[38;5;124m\"\u001B[39m \u001B[38;5;241m%\u001B[39m (d): \u001B[38;5;124m\"\u001B[39m\u001B[38;5;124mmean\u001B[39m\u001B[38;5;124m\"\u001B[39m \u001B[38;5;28;01mfor\u001B[39;00m d \u001B[38;5;129;01min\u001B[39;00m benchmark\u001B[38;5;241m.\u001B[39mtask_name_to_task})\n\u001B[0;32m     11\u001B[0m df\u001B[38;5;241m.\u001B[39mrename(columns\u001B[38;5;241m=\u001B[39m{k: k\u001B[38;5;241m.\u001B[39mreplace(\u001B[38;5;124m\"\u001B[39m\u001B[38;5;124m_bacc\u001B[39m\u001B[38;5;124m\"\u001B[39m, \u001B[38;5;124m\"\u001B[39m\u001B[38;5;124m\"\u001B[39m) \u001B[38;5;28;01mfor\u001B[39;00m k \u001B[38;5;129;01min\u001B[39;00m df\u001B[38;5;241m.\u001B[39mkeys()}, inplace\u001B[38;5;241m=\u001B[39m\u001B[38;5;28;01mTrue\u001B[39;00m)\n\u001B[0;32m     12\u001B[0m df\u001B[38;5;241m.\u001B[39mdrop(\u001B[38;5;124m\"\u001B[39m\u001B[38;5;124mtotal\u001B[39m\u001B[38;5;124m\"\u001B[39m,inplace\u001B[38;5;241m=\u001B[39m\u001B[38;5;28;01mTrue\u001B[39;00m)\n",
      "File \u001B[1;32m~\\anaconda3\\envs\\env\\lib\\site-packages\\pandas\\core\\frame.py:8402\u001B[0m, in \u001B[0;36mDataFrame.groupby\u001B[1;34m(self, by, axis, level, as_index, sort, group_keys, squeeze, observed, dropna)\u001B[0m\n\u001B[0;32m   8399\u001B[0m     \u001B[38;5;28;01mraise\u001B[39;00m \u001B[38;5;167;01mTypeError\u001B[39;00m(\u001B[38;5;124m\"\u001B[39m\u001B[38;5;124mYou have to supply one of \u001B[39m\u001B[38;5;124m'\u001B[39m\u001B[38;5;124mby\u001B[39m\u001B[38;5;124m'\u001B[39m\u001B[38;5;124m and \u001B[39m\u001B[38;5;124m'\u001B[39m\u001B[38;5;124mlevel\u001B[39m\u001B[38;5;124m'\u001B[39m\u001B[38;5;124m\"\u001B[39m)\n\u001B[0;32m   8400\u001B[0m axis \u001B[38;5;241m=\u001B[39m \u001B[38;5;28mself\u001B[39m\u001B[38;5;241m.\u001B[39m_get_axis_number(axis)\n\u001B[1;32m-> 8402\u001B[0m \u001B[38;5;28;01mreturn\u001B[39;00m \u001B[43mDataFrameGroupBy\u001B[49m\u001B[43m(\u001B[49m\n\u001B[0;32m   8403\u001B[0m \u001B[43m    \u001B[49m\u001B[43mobj\u001B[49m\u001B[38;5;241;43m=\u001B[39;49m\u001B[38;5;28;43mself\u001B[39;49m\u001B[43m,\u001B[49m\n\u001B[0;32m   8404\u001B[0m \u001B[43m    \u001B[49m\u001B[43mkeys\u001B[49m\u001B[38;5;241;43m=\u001B[39;49m\u001B[43mby\u001B[49m\u001B[43m,\u001B[49m\n\u001B[0;32m   8405\u001B[0m \u001B[43m    \u001B[49m\u001B[43maxis\u001B[49m\u001B[38;5;241;43m=\u001B[39;49m\u001B[43maxis\u001B[49m\u001B[43m,\u001B[49m\n\u001B[0;32m   8406\u001B[0m \u001B[43m    \u001B[49m\u001B[43mlevel\u001B[49m\u001B[38;5;241;43m=\u001B[39;49m\u001B[43mlevel\u001B[49m\u001B[43m,\u001B[49m\n\u001B[0;32m   8407\u001B[0m \u001B[43m    \u001B[49m\u001B[43mas_index\u001B[49m\u001B[38;5;241;43m=\u001B[39;49m\u001B[43mas_index\u001B[49m\u001B[43m,\u001B[49m\n\u001B[0;32m   8408\u001B[0m \u001B[43m    \u001B[49m\u001B[43msort\u001B[49m\u001B[38;5;241;43m=\u001B[39;49m\u001B[43msort\u001B[49m\u001B[43m,\u001B[49m\n\u001B[0;32m   8409\u001B[0m \u001B[43m    \u001B[49m\u001B[43mgroup_keys\u001B[49m\u001B[38;5;241;43m=\u001B[39;49m\u001B[43mgroup_keys\u001B[49m\u001B[43m,\u001B[49m\n\u001B[0;32m   8410\u001B[0m \u001B[43m    \u001B[49m\u001B[43msqueeze\u001B[49m\u001B[38;5;241;43m=\u001B[39;49m\u001B[43msqueeze\u001B[49m\u001B[43m,\u001B[49m\n\u001B[0;32m   8411\u001B[0m \u001B[43m    \u001B[49m\u001B[43mobserved\u001B[49m\u001B[38;5;241;43m=\u001B[39;49m\u001B[43mobserved\u001B[49m\u001B[43m,\u001B[49m\n\u001B[0;32m   8412\u001B[0m \u001B[43m    \u001B[49m\u001B[43mdropna\u001B[49m\u001B[38;5;241;43m=\u001B[39;49m\u001B[43mdropna\u001B[49m\u001B[43m,\u001B[49m\n\u001B[0;32m   8413\u001B[0m \u001B[43m\u001B[49m\u001B[43m)\u001B[49m\n",
      "File \u001B[1;32m~\\anaconda3\\envs\\env\\lib\\site-packages\\pandas\\core\\groupby\\groupby.py:965\u001B[0m, in \u001B[0;36mGroupBy.__init__\u001B[1;34m(self, obj, keys, axis, level, grouper, exclusions, selection, as_index, sort, group_keys, squeeze, observed, mutated, dropna)\u001B[0m\n\u001B[0;32m    962\u001B[0m \u001B[38;5;28;01mif\u001B[39;00m grouper \u001B[38;5;129;01mis\u001B[39;00m \u001B[38;5;28;01mNone\u001B[39;00m:\n\u001B[0;32m    963\u001B[0m     \u001B[38;5;28;01mfrom\u001B[39;00m \u001B[38;5;21;01mpandas\u001B[39;00m\u001B[38;5;21;01m.\u001B[39;00m\u001B[38;5;21;01mcore\u001B[39;00m\u001B[38;5;21;01m.\u001B[39;00m\u001B[38;5;21;01mgroupby\u001B[39;00m\u001B[38;5;21;01m.\u001B[39;00m\u001B[38;5;21;01mgrouper\u001B[39;00m \u001B[38;5;28;01mimport\u001B[39;00m get_grouper\n\u001B[1;32m--> 965\u001B[0m     grouper, exclusions, obj \u001B[38;5;241m=\u001B[39m \u001B[43mget_grouper\u001B[49m\u001B[43m(\u001B[49m\n\u001B[0;32m    966\u001B[0m \u001B[43m        \u001B[49m\u001B[43mobj\u001B[49m\u001B[43m,\u001B[49m\n\u001B[0;32m    967\u001B[0m \u001B[43m        \u001B[49m\u001B[43mkeys\u001B[49m\u001B[43m,\u001B[49m\n\u001B[0;32m    968\u001B[0m \u001B[43m        \u001B[49m\u001B[43maxis\u001B[49m\u001B[38;5;241;43m=\u001B[39;49m\u001B[43maxis\u001B[49m\u001B[43m,\u001B[49m\n\u001B[0;32m    969\u001B[0m \u001B[43m        \u001B[49m\u001B[43mlevel\u001B[49m\u001B[38;5;241;43m=\u001B[39;49m\u001B[43mlevel\u001B[49m\u001B[43m,\u001B[49m\n\u001B[0;32m    970\u001B[0m \u001B[43m        \u001B[49m\u001B[43msort\u001B[49m\u001B[38;5;241;43m=\u001B[39;49m\u001B[43msort\u001B[49m\u001B[43m,\u001B[49m\n\u001B[0;32m    971\u001B[0m \u001B[43m        \u001B[49m\u001B[43mobserved\u001B[49m\u001B[38;5;241;43m=\u001B[39;49m\u001B[43mobserved\u001B[49m\u001B[43m,\u001B[49m\n\u001B[0;32m    972\u001B[0m \u001B[43m        \u001B[49m\u001B[43mmutated\u001B[49m\u001B[38;5;241;43m=\u001B[39;49m\u001B[38;5;28;43mself\u001B[39;49m\u001B[38;5;241;43m.\u001B[39;49m\u001B[43mmutated\u001B[49m\u001B[43m,\u001B[49m\n\u001B[0;32m    973\u001B[0m \u001B[43m        \u001B[49m\u001B[43mdropna\u001B[49m\u001B[38;5;241;43m=\u001B[39;49m\u001B[38;5;28;43mself\u001B[39;49m\u001B[38;5;241;43m.\u001B[39;49m\u001B[43mdropna\u001B[49m\u001B[43m,\u001B[49m\n\u001B[0;32m    974\u001B[0m \u001B[43m    \u001B[49m\u001B[43m)\u001B[49m\n\u001B[0;32m    976\u001B[0m \u001B[38;5;28mself\u001B[39m\u001B[38;5;241m.\u001B[39mobj \u001B[38;5;241m=\u001B[39m obj\n\u001B[0;32m    977\u001B[0m \u001B[38;5;28mself\u001B[39m\u001B[38;5;241m.\u001B[39maxis \u001B[38;5;241m=\u001B[39m obj\u001B[38;5;241m.\u001B[39m_get_axis_number(axis)\n",
      "File \u001B[1;32m~\\anaconda3\\envs\\env\\lib\\site-packages\\pandas\\core\\groupby\\grouper.py:888\u001B[0m, in \u001B[0;36mget_grouper\u001B[1;34m(obj, key, axis, level, sort, observed, mutated, validate, dropna)\u001B[0m\n\u001B[0;32m    886\u001B[0m         in_axis, level, gpr \u001B[38;5;241m=\u001B[39m \u001B[38;5;28;01mFalse\u001B[39;00m, gpr, \u001B[38;5;28;01mNone\u001B[39;00m\n\u001B[0;32m    887\u001B[0m     \u001B[38;5;28;01melse\u001B[39;00m:\n\u001B[1;32m--> 888\u001B[0m         \u001B[38;5;28;01mraise\u001B[39;00m \u001B[38;5;167;01mKeyError\u001B[39;00m(gpr)\n\u001B[0;32m    889\u001B[0m \u001B[38;5;28;01melif\u001B[39;00m \u001B[38;5;28misinstance\u001B[39m(gpr, Grouper) \u001B[38;5;129;01mand\u001B[39;00m gpr\u001B[38;5;241m.\u001B[39mkey \u001B[38;5;129;01mis\u001B[39;00m \u001B[38;5;129;01mnot\u001B[39;00m \u001B[38;5;28;01mNone\u001B[39;00m:\n\u001B[0;32m    890\u001B[0m     \u001B[38;5;66;03m# Add key to exclusions\u001B[39;00m\n\u001B[0;32m    891\u001B[0m     exclusions\u001B[38;5;241m.\u001B[39madd(gpr\u001B[38;5;241m.\u001B[39mkey)\n",
      "\u001B[1;31mKeyError\u001B[0m: 'model_name'"
     ]
    }
   ],
   "source": [
    "cm = sns.light_palette(\"green\", as_cmap=True)\n",
    "\n",
    "def highlight_max(data):\n",
    "    is_max = data == data.max()\n",
    "    return ['font-weight: bold' if v else '' for v in is_max]\n",
    "\n",
    "df = pd.DataFrame(results)\n",
    "df = df.groupby([\"model_name\", \"input\"]).agg({\"%s_bacc\" % (d): \"mean\" for d in benchmark.task_name_to_task})\n",
    "df.rename(columns={k: k.replace(\"_bacc\", \"\") for k in df.keys()}, inplace=True)\n",
    "df.drop(\"total\",inplace=True)\n",
    "df[\"overall\"] = (df[\"factcc\"]+df[\"frank\"]+df[\"polytope\"]+df[\"cogensumm\"]+df[\"summeval\"]+df[\"xsumfaith\"]) / (6.0)\n",
    "\n",
    "df.style.apply(highlight_max).background_gradient(cmap=cm, high=1.0, low=0.0).set_precision(3).set_caption(\"Balanced Accuracy\")"
   ]
  },
  {
   "cell_type": "code",
   "execution_count": 19,
   "metadata": {
    "ExecuteTime": {
     "end_time": "2023-07-27T11:02:01.230222600Z",
     "start_time": "2023-07-27T11:02:01.185220500Z"
    }
   },
   "outputs": [
    {
     "name": "stdout",
     "output_type": "stream",
     "text": [
      "DATASET NAME    MODEL NAME          \n",
      "==========================\n",
      "==========================\n",
      "==========================\n"
     ]
    },
    {
     "ename": "KeyError",
     "evalue": "'SummaC-ZS-VITC-L'",
     "output_type": "error",
     "traceback": [
      "\u001B[1;31m---------------------------------------------------------------------------\u001B[0m",
      "\u001B[1;31mKeyError\u001B[0m                                  Traceback (most recent call last)",
      "Cell \u001B[1;32mIn[19], line 53\u001B[0m\n\u001B[0;32m     50\u001B[0m \u001B[38;5;28mprint\u001B[39m(\u001B[38;5;124m\"\u001B[39m\u001B[38;5;124m==========================\u001B[39m\u001B[38;5;124m\"\u001B[39m)\n\u001B[0;32m     52\u001B[0m \u001B[38;5;66;03m# baseline = np.mean(np.array(sampled_batch_preds[\"QuestEval\"]), axis=0)\u001B[39;00m\n\u001B[1;32m---> 53\u001B[0m summaczs \u001B[38;5;241m=\u001B[39m np\u001B[38;5;241m.\u001B[39mmean(np\u001B[38;5;241m.\u001B[39marray(\u001B[43msampled_batch_preds\u001B[49m\u001B[43m[\u001B[49m\u001B[38;5;124;43m\"\u001B[39;49m\u001B[38;5;124;43mSummaC-ZS-VITC-L\u001B[39;49m\u001B[38;5;124;43m\"\u001B[39;49m\u001B[43m]\u001B[49m), axis\u001B[38;5;241m=\u001B[39m\u001B[38;5;241m0\u001B[39m)\n\u001B[0;32m     54\u001B[0m summacconv \u001B[38;5;241m=\u001B[39m np\u001B[38;5;241m.\u001B[39mmean(np\u001B[38;5;241m.\u001B[39marray(sampled_batch_preds[\u001B[38;5;124m\"\u001B[39m\u001B[38;5;124mSummaC-Histo-VITC-L\u001B[39m\u001B[38;5;124m\"\u001B[39m]), axis\u001B[38;5;241m=\u001B[39m\u001B[38;5;241m0\u001B[39m)\n\u001B[0;32m     56\u001B[0m \u001B[38;5;28;01mfor\u001B[39;00m model \u001B[38;5;129;01min\u001B[39;00m [\u001B[38;5;124m\"\u001B[39m\u001B[38;5;124mQuestEval\u001B[39m\u001B[38;5;124m\"\u001B[39m, \u001B[38;5;124m\"\u001B[39m\u001B[38;5;124mSummaC-ZS-VITC-L\u001B[39m\u001B[38;5;124m\"\u001B[39m, \u001B[38;5;124m\"\u001B[39m\u001B[38;5;124mSummaC-Histo-VITC-L\u001B[39m\u001B[38;5;124m\"\u001B[39m]:\n",
      "\u001B[1;31mKeyError\u001B[0m: 'SummaC-ZS-VITC-L'"
     ]
    }
   ],
   "source": [
    "import random\n",
    "\n",
    "# Analysis with confidence interval\n",
    "strongest_baseline = {\"cogensumm\": \"DAE\", \"xsumfaith\": \"NER\", \"polytope\": \"QuestEval\", \"factcc\": \"DAE\", \"summeval\": \"QuestEval\", \"frank\": \"QuestEval\"}\n",
    "\n",
    "P5 = 5 / 2 # Correction due to the fact that we are running 2 tests with the same data\n",
    "P1 = 1 / 2 # Correction due to the fact that we are running 2 tests with the same data\n",
    "\n",
    "def resample_balanced_acc(preds, labels, n_samples=100, sample_ratio=0.7):\n",
    "    N = len(preds)\n",
    "    idxs = list(range(N))\n",
    "    N_batch = int(sample_ratio*N)\n",
    "\n",
    "    bal_accs = []\n",
    "    for _ in range(n_samples):\n",
    "        random.shuffle(idxs)\n",
    "        batch_preds = [preds[i] for i in idxs[:N_batch]]\n",
    "        batch_labels = [labels[i] for i in idxs[:N_batch]]\n",
    "        \n",
    "        bal_accs.append(sklearn.metrics.balanced_accuracy_score(batch_labels, batch_preds))\n",
    "    return bal_accs\n",
    "\n",
    "print(\"DATASET NAME\".ljust(15), \"MODEL NAME\".ljust(20))\n",
    "\n",
    "sampled_batch_preds = {res[\"model_name\"]: [] for res in results}\n",
    "for res in results:\n",
    "    if res[\"model_name\"] == \"total\":\n",
    "        print(\"==================================================\")\n",
    "        continue\n",
    "    \n",
    "    samples = resample_balanced_acc(res[\"preds\"], res[\"labels\"])\n",
    "    sampled_batch_preds[res[\"model_name\"]].append(samples)\n",
    "    low5, high5 = np.percentile(samples, P5), np.percentile(samples, 100-P5)\n",
    "    low1, high1 = np.percentile(samples, P1), np.percentile(samples, 100-P1)\n",
    "    bacc = sklearn.metrics.balanced_accuracy_score(res[\"labels\"], res[\"preds\"])\n",
    "    if \"SummaC\" in res[\"model_name\"] or res[\"model_name\"] == strongest_baseline[res[\"dataset_name\"]]:\n",
    "        \n",
    "        print(res[\"dataset_name\"].ljust(15), res[\"model_name\"].ljust(20), \" - %.3f (%.3f - %.3f) (%.3f - %.3f)\" % (bacc, low5, high5, low1, high1))\n",
    "        if res[\"model_name\"] == strongest_baseline[res[\"dataset_name\"]]:\n",
    "            bl5, bh5, bl1, bh1 = low5, high5, low1, high1\n",
    "            print(\"--------------\")\n",
    "        else:\n",
    "            if low5 >= bh5:\n",
    "                print(\"Significant difference (p < 0.05)\")\n",
    "            if low1 >= bh1:\n",
    "                print(\"Significant difference (p < 0.01)\")\n",
    "\n",
    "print(\"==========================\")\n",
    "print(\"==========================\")\n",
    "print(\"==========================\")\n",
    "\n",
    "# baseline = np.mean(np.array(sampled_batch_preds[\"QuestEval\"]), axis=0)\n",
    "summaczs = np.mean(np.array(sampled_batch_preds[\"SummaC-ZS-VITC-L\"]), axis=0)\n",
    "summacconv = np.mean(np.array(sampled_batch_preds[\"SummaC-Histo-VITC-L\"]), axis=0)\n",
    "\n",
    "for model in [\"QuestEval\", \"SummaC-ZS-VITC-L\", \"SummaC-Histo-VITC-L\"]:\n",
    "    samples = np.mean(np.array(sampled_batch_preds[model]), axis=0)\n",
    "    low5, high5 = np.percentile(samples, P5), np.percentile(samples, 100-P5)\n",
    "    low1, high1 = np.percentile(samples, P1), np.percentile(samples, 100-P1)\n",
    "    \n",
    "    print(\"OVERALL\".ljust(15), model.ljust(20), \" - (%.3f - %.3f) (%.3f - %.3f)\" % (low5, high5, low1, high1))"
   ]
  },
  {
   "cell_type": "markdown",
   "metadata": {},
   "source": [
    "## ROC AUC score"
   ]
  },
  {
   "cell_type": "code",
   "execution_count": 6,
   "metadata": {},
   "outputs": [
    {
     "data": {
      "text/html": [
       "<style  type=\"text/css\" >\n",
       "    #T_08a5c05a_351e_11ec_8e3a_651b56d0386crow0_col0 {\n",
       "            : ;\n",
       "            background-color:  #90c790;\n",
       "            color:  #000000;\n",
       "        }    #T_08a5c05a_351e_11ec_8e3a_651b56d0386crow0_col1 {\n",
       "            : ;\n",
       "            background-color:  #ebf3eb;\n",
       "            color:  #000000;\n",
       "        }    #T_08a5c05a_351e_11ec_8e3a_651b56d0386crow0_col2 {\n",
       "            : ;\n",
       "            background-color:  #a4d0a4;\n",
       "            color:  #000000;\n",
       "        }    #T_08a5c05a_351e_11ec_8e3a_651b56d0386crow0_col3 {\n",
       "            : ;\n",
       "            background-color:  #8fc68f;\n",
       "            color:  #000000;\n",
       "        }    #T_08a5c05a_351e_11ec_8e3a_651b56d0386crow0_col4 {\n",
       "            : ;\n",
       "            background-color:  #93c893;\n",
       "            color:  #000000;\n",
       "        }    #T_08a5c05a_351e_11ec_8e3a_651b56d0386crow0_col5 {\n",
       "            : ;\n",
       "            background-color:  #ddecdd;\n",
       "            color:  #000000;\n",
       "        }    #T_08a5c05a_351e_11ec_8e3a_651b56d0386crow0_col6 {\n",
       "            : ;\n",
       "            background-color:  #b2d7b1;\n",
       "            color:  #000000;\n",
       "        }    #T_08a5c05a_351e_11ec_8e3a_651b56d0386crow1_col0 {\n",
       "            : ;\n",
       "            background-color:  #b4d8b4;\n",
       "            color:  #000000;\n",
       "        }    #T_08a5c05a_351e_11ec_8e3a_651b56d0386crow1_col1 {\n",
       "            : ;\n",
       "            background-color:  #badbba;\n",
       "            color:  #000000;\n",
       "        }    #T_08a5c05a_351e_11ec_8e3a_651b56d0386crow1_col2 {\n",
       "            : ;\n",
       "            background-color:  #dbebdb;\n",
       "            color:  #000000;\n",
       "        }    #T_08a5c05a_351e_11ec_8e3a_651b56d0386crow1_col3 {\n",
       "            : ;\n",
       "            background-color:  #eaf2ea;\n",
       "            color:  #000000;\n",
       "        }    #T_08a5c05a_351e_11ec_8e3a_651b56d0386crow1_col4 {\n",
       "            : ;\n",
       "            background-color:  #ebf3eb;\n",
       "            color:  #000000;\n",
       "        }    #T_08a5c05a_351e_11ec_8e3a_651b56d0386crow1_col5 {\n",
       "            : ;\n",
       "            background-color:  #b0d6b0;\n",
       "            color:  #000000;\n",
       "        }    #T_08a5c05a_351e_11ec_8e3a_651b56d0386crow1_col6 {\n",
       "            : ;\n",
       "            background-color:  #dfeddf;\n",
       "            color:  #000000;\n",
       "        }    #T_08a5c05a_351e_11ec_8e3a_651b56d0386crow2_col0 {\n",
       "            : ;\n",
       "            background-color:  #ebf3eb;\n",
       "            color:  #000000;\n",
       "        }    #T_08a5c05a_351e_11ec_8e3a_651b56d0386crow2_col1 {\n",
       "            : ;\n",
       "            background-color:  #96c996;\n",
       "            color:  #000000;\n",
       "        }    #T_08a5c05a_351e_11ec_8e3a_651b56d0386crow2_col2 {\n",
       "            : ;\n",
       "            background-color:  #ebf3eb;\n",
       "            color:  #000000;\n",
       "        }    #T_08a5c05a_351e_11ec_8e3a_651b56d0386crow2_col3 {\n",
       "            : ;\n",
       "            background-color:  #ebf3eb;\n",
       "            color:  #000000;\n",
       "        }    #T_08a5c05a_351e_11ec_8e3a_651b56d0386crow2_col4 {\n",
       "            : ;\n",
       "            background-color:  #dbebdb;\n",
       "            color:  #000000;\n",
       "        }    #T_08a5c05a_351e_11ec_8e3a_651b56d0386crow2_col5 {\n",
       "            : ;\n",
       "            background-color:  #ebf3eb;\n",
       "            color:  #000000;\n",
       "        }    #T_08a5c05a_351e_11ec_8e3a_651b56d0386crow2_col6 {\n",
       "            : ;\n",
       "            background-color:  #ebf3eb;\n",
       "            color:  #000000;\n",
       "        }    #T_08a5c05a_351e_11ec_8e3a_651b56d0386crow3_col0 {\n",
       "            : ;\n",
       "            background-color:  #a2cfa2;\n",
       "            color:  #000000;\n",
       "        }    #T_08a5c05a_351e_11ec_8e3a_651b56d0386crow3_col1 {\n",
       "            : ;\n",
       "            background-color:  #84c184;\n",
       "            color:  #000000;\n",
       "        }    #T_08a5c05a_351e_11ec_8e3a_651b56d0386crow3_col2 {\n",
       "            font-weight:  bold;\n",
       "            background-color:  #75b975;\n",
       "            color:  #000000;\n",
       "        }    #T_08a5c05a_351e_11ec_8e3a_651b56d0386crow3_col3 {\n",
       "            : ;\n",
       "            background-color:  #afd6af;\n",
       "            color:  #000000;\n",
       "        }    #T_08a5c05a_351e_11ec_8e3a_651b56d0386crow3_col4 {\n",
       "            : ;\n",
       "            background-color:  #8ec58e;\n",
       "            color:  #000000;\n",
       "        }    #T_08a5c05a_351e_11ec_8e3a_651b56d0386crow3_col5 {\n",
       "            : ;\n",
       "            background-color:  #78bb78;\n",
       "            color:  #000000;\n",
       "        }    #T_08a5c05a_351e_11ec_8e3a_651b56d0386crow3_col6 {\n",
       "            : ;\n",
       "            background-color:  #8cc58c;\n",
       "            color:  #000000;\n",
       "        }    #T_08a5c05a_351e_11ec_8e3a_651b56d0386crow4_col0 {\n",
       "            : ;\n",
       "            background-color:  #91c791;\n",
       "            color:  #000000;\n",
       "        }    #T_08a5c05a_351e_11ec_8e3a_651b56d0386crow4_col1 {\n",
       "            font-weight:  bold;\n",
       "            background-color:  #76ba76;\n",
       "            color:  #000000;\n",
       "        }    #T_08a5c05a_351e_11ec_8e3a_651b56d0386crow4_col2 {\n",
       "            : ;\n",
       "            background-color:  #aed5ae;\n",
       "            color:  #000000;\n",
       "        }    #T_08a5c05a_351e_11ec_8e3a_651b56d0386crow4_col3 {\n",
       "            font-weight:  bold;\n",
       "            background-color:  #75b975;\n",
       "            color:  #000000;\n",
       "        }    #T_08a5c05a_351e_11ec_8e3a_651b56d0386crow4_col4 {\n",
       "            font-weight:  bold;\n",
       "            background-color:  #75b975;\n",
       "            color:  #000000;\n",
       "        }    #T_08a5c05a_351e_11ec_8e3a_651b56d0386crow4_col5 {\n",
       "            font-weight:  bold;\n",
       "            background-color:  #75b975;\n",
       "            color:  #000000;\n",
       "        }    #T_08a5c05a_351e_11ec_8e3a_651b56d0386crow4_col6 {\n",
       "            font-weight:  bold;\n",
       "            background-color:  #75b975;\n",
       "            color:  #000000;\n",
       "        }    #T_08a5c05a_351e_11ec_8e3a_651b56d0386crow5_col0 {\n",
       "            font-weight:  bold;\n",
       "            background-color:  #75b975;\n",
       "            color:  #000000;\n",
       "        }    #T_08a5c05a_351e_11ec_8e3a_651b56d0386crow5_col1 {\n",
       "            : ;\n",
       "            background-color:  #a7d2a7;\n",
       "            color:  #000000;\n",
       "        }    #T_08a5c05a_351e_11ec_8e3a_651b56d0386crow5_col2 {\n",
       "            : ;\n",
       "            background-color:  #badbba;\n",
       "            color:  #000000;\n",
       "        }    #T_08a5c05a_351e_11ec_8e3a_651b56d0386crow5_col3 {\n",
       "            : ;\n",
       "            background-color:  #8dc58d;\n",
       "            color:  #000000;\n",
       "        }    #T_08a5c05a_351e_11ec_8e3a_651b56d0386crow5_col4 {\n",
       "            : ;\n",
       "            background-color:  #78bb78;\n",
       "            color:  #000000;\n",
       "        }    #T_08a5c05a_351e_11ec_8e3a_651b56d0386crow5_col5 {\n",
       "            : ;\n",
       "            background-color:  #83c083;\n",
       "            color:  #000000;\n",
       "        }    #T_08a5c05a_351e_11ec_8e3a_651b56d0386crow5_col6 {\n",
       "            : ;\n",
       "            background-color:  #87c287;\n",
       "            color:  #000000;\n",
       "        }</style><table id=\"T_08a5c05a_351e_11ec_8e3a_651b56d0386c\" ><caption>ROC AUC</caption><thead>    <tr>        <th class=\"blank\" ></th>        <th class=\"blank level0\" ></th>        <th class=\"col_heading level0 col0\" >cogensumm</th>        <th class=\"col_heading level0 col1\" >xsumfaith</th>        <th class=\"col_heading level0 col2\" >polytope</th>        <th class=\"col_heading level0 col3\" >factcc</th>        <th class=\"col_heading level0 col4\" >summeval</th>        <th class=\"col_heading level0 col5\" >frank</th>        <th class=\"col_heading level0 col6\" >overall</th>    </tr>    <tr>        <th class=\"index_name level0\" >model_name</th>        <th class=\"index_name level1\" >input</th>        <th class=\"blank\" ></th>        <th class=\"blank\" ></th>        <th class=\"blank\" ></th>        <th class=\"blank\" ></th>        <th class=\"blank\" ></th>        <th class=\"blank\" ></th>        <th class=\"blank\" ></th>    </tr></thead><tbody>\n",
       "                <tr>\n",
       "                        <th id=\"T_08a5c05a_351e_11ec_8e3a_651b56d0386clevel0_row0\" class=\"row_heading level0 row0\" >DAE</th>\n",
       "                        <th id=\"T_08a5c05a_351e_11ec_8e3a_651b56d0386clevel1_row0\" class=\"row_heading level1 row0\" >doc</th>\n",
       "                        <td id=\"T_08a5c05a_351e_11ec_8e3a_651b56d0386crow0_col0\" class=\"data row0 col0\" >0.678</td>\n",
       "                        <td id=\"T_08a5c05a_351e_11ec_8e3a_651b56d0386crow0_col1\" class=\"data row0 col1\" >0.413</td>\n",
       "                        <td id=\"T_08a5c05a_351e_11ec_8e3a_651b56d0386crow0_col2\" class=\"data row0 col2\" >0.641</td>\n",
       "                        <td id=\"T_08a5c05a_351e_11ec_8e3a_651b56d0386crow0_col3\" class=\"data row0 col3\" >0.827</td>\n",
       "                        <td id=\"T_08a5c05a_351e_11ec_8e3a_651b56d0386crow0_col4\" class=\"data row0 col4\" >0.774</td>\n",
       "                        <td id=\"T_08a5c05a_351e_11ec_8e3a_651b56d0386crow0_col5\" class=\"data row0 col5\" >0.643</td>\n",
       "                        <td id=\"T_08a5c05a_351e_11ec_8e3a_651b56d0386crow0_col6\" class=\"data row0 col6\" >0.663</td>\n",
       "            </tr>\n",
       "            <tr>\n",
       "                        <th id=\"T_08a5c05a_351e_11ec_8e3a_651b56d0386clevel0_row1\" class=\"row_heading level0 row1\" >FEQA</th>\n",
       "                        <th id=\"T_08a5c05a_351e_11ec_8e3a_651b56d0386clevel1_row1\" class=\"row_heading level1 row1\" >doc</th>\n",
       "                        <td id=\"T_08a5c05a_351e_11ec_8e3a_651b56d0386crow1_col0\" class=\"data row1 col0\" >0.608</td>\n",
       "                        <td id=\"T_08a5c05a_351e_11ec_8e3a_651b56d0386crow1_col1\" class=\"data row1 col1\" >0.534</td>\n",
       "                        <td id=\"T_08a5c05a_351e_11ec_8e3a_651b56d0386crow1_col2\" class=\"data row1 col2\" >0.546</td>\n",
       "                        <td id=\"T_08a5c05a_351e_11ec_8e3a_651b56d0386crow1_col3\" class=\"data row1 col3\" >0.507</td>\n",
       "                        <td id=\"T_08a5c05a_351e_11ec_8e3a_651b56d0386crow1_col4\" class=\"data row1 col4\" >0.522</td>\n",
       "                        <td id=\"T_08a5c05a_351e_11ec_8e3a_651b56d0386crow1_col5\" class=\"data row1 col5\" >0.748</td>\n",
       "                        <td id=\"T_08a5c05a_351e_11ec_8e3a_651b56d0386crow1_col6\" class=\"data row1 col6\" >0.577</td>\n",
       "            </tr>\n",
       "            <tr>\n",
       "                        <th id=\"T_08a5c05a_351e_11ec_8e3a_651b56d0386clevel0_row2\" class=\"row_heading level0 row2\" >NER</th>\n",
       "                        <th id=\"T_08a5c05a_351e_11ec_8e3a_651b56d0386clevel1_row2\" class=\"row_heading level1 row2\" >doc</th>\n",
       "                        <td id=\"T_08a5c05a_351e_11ec_8e3a_651b56d0386crow2_col0\" class=\"data row2 col0\" >0.502</td>\n",
       "                        <td id=\"T_08a5c05a_351e_11ec_8e3a_651b56d0386crow2_col1\" class=\"data row2 col1\" >0.623</td>\n",
       "                        <td id=\"T_08a5c05a_351e_11ec_8e3a_651b56d0386crow2_col2\" class=\"data row2 col2\" >0.517</td>\n",
       "                        <td id=\"T_08a5c05a_351e_11ec_8e3a_651b56d0386crow2_col3\" class=\"data row2 col3\" >0.5</td>\n",
       "                        <td id=\"T_08a5c05a_351e_11ec_8e3a_651b56d0386crow2_col4\" class=\"data row2 col4\" >0.568</td>\n",
       "                        <td id=\"T_08a5c05a_351e_11ec_8e3a_651b56d0386crow2_col5\" class=\"data row2 col5\" >0.609</td>\n",
       "                        <td id=\"T_08a5c05a_351e_11ec_8e3a_651b56d0386crow2_col6\" class=\"data row2 col6\" >0.553</td>\n",
       "            </tr>\n",
       "            <tr>\n",
       "                        <th id=\"T_08a5c05a_351e_11ec_8e3a_651b56d0386clevel0_row3\" class=\"row_heading level0 row3\" >QuestEval</th>\n",
       "                        <th id=\"T_08a5c05a_351e_11ec_8e3a_651b56d0386clevel1_row3\" class=\"row_heading level1 row3\" >doc</th>\n",
       "                        <td id=\"T_08a5c05a_351e_11ec_8e3a_651b56d0386crow3_col0\" class=\"data row3 col0\" >0.644</td>\n",
       "                        <td id=\"T_08a5c05a_351e_11ec_8e3a_651b56d0386crow3_col1\" class=\"data row3 col1\" >0.664</td>\n",
       "                        <td id=\"T_08a5c05a_351e_11ec_8e3a_651b56d0386crow3_col2\" class=\"data row3 col2\" >0.722</td>\n",
       "                        <td id=\"T_08a5c05a_351e_11ec_8e3a_651b56d0386crow3_col3\" class=\"data row3 col3\" >0.715</td>\n",
       "                        <td id=\"T_08a5c05a_351e_11ec_8e3a_651b56d0386crow3_col4\" class=\"data row3 col4\" >0.79</td>\n",
       "                        <td id=\"T_08a5c05a_351e_11ec_8e3a_651b56d0386crow3_col5\" class=\"data row3 col5\" >0.879</td>\n",
       "                        <td id=\"T_08a5c05a_351e_11ec_8e3a_651b56d0386crow3_col6\" class=\"data row3 col6\" >0.736</td>\n",
       "            </tr>\n",
       "            <tr>\n",
       "                        <th id=\"T_08a5c05a_351e_11ec_8e3a_651b56d0386clevel0_row4\" class=\"row_heading level0 row4\" >SummaC-Histo-VITC-L</th>\n",
       "                        <th id=\"T_08a5c05a_351e_11ec_8e3a_651b56d0386clevel1_row4\" class=\"row_heading level1 row4\" >doc</th>\n",
       "                        <td id=\"T_08a5c05a_351e_11ec_8e3a_651b56d0386crow4_col0\" class=\"data row4 col0\" >0.676</td>\n",
       "                        <td id=\"T_08a5c05a_351e_11ec_8e3a_651b56d0386crow4_col1\" class=\"data row4 col1\" >0.702</td>\n",
       "                        <td id=\"T_08a5c05a_351e_11ec_8e3a_651b56d0386crow4_col2\" class=\"data row4 col2\" >0.624</td>\n",
       "                        <td id=\"T_08a5c05a_351e_11ec_8e3a_651b56d0386crow4_col3\" class=\"data row4 col3\" >0.922</td>\n",
       "                        <td id=\"T_08a5c05a_351e_11ec_8e3a_651b56d0386crow4_col4\" class=\"data row4 col4\" >0.86</td>\n",
       "                        <td id=\"T_08a5c05a_351e_11ec_8e3a_651b56d0386crow4_col5\" class=\"data row4 col5\" >0.884</td>\n",
       "                        <td id=\"T_08a5c05a_351e_11ec_8e3a_651b56d0386crow4_col6\" class=\"data row4 col6\" >0.778</td>\n",
       "            </tr>\n",
       "            <tr>\n",
       "                        <th id=\"T_08a5c05a_351e_11ec_8e3a_651b56d0386clevel0_row5\" class=\"row_heading level0 row5\" >SummaC-ZS-VITC-L</th>\n",
       "                        <th id=\"T_08a5c05a_351e_11ec_8e3a_651b56d0386clevel1_row5\" class=\"row_heading level1 row5\" >doc</th>\n",
       "                        <td id=\"T_08a5c05a_351e_11ec_8e3a_651b56d0386crow5_col0\" class=\"data row5 col0\" >0.731</td>\n",
       "                        <td id=\"T_08a5c05a_351e_11ec_8e3a_651b56d0386crow5_col1\" class=\"data row5 col1\" >0.58</td>\n",
       "                        <td id=\"T_08a5c05a_351e_11ec_8e3a_651b56d0386crow5_col2\" class=\"data row5 col2\" >0.603</td>\n",
       "                        <td id=\"T_08a5c05a_351e_11ec_8e3a_651b56d0386crow5_col3\" class=\"data row5 col3\" >0.837</td>\n",
       "                        <td id=\"T_08a5c05a_351e_11ec_8e3a_651b56d0386crow5_col4\" class=\"data row5 col4\" >0.855</td>\n",
       "                        <td id=\"T_08a5c05a_351e_11ec_8e3a_651b56d0386crow5_col5\" class=\"data row5 col5\" >0.853</td>\n",
       "                        <td id=\"T_08a5c05a_351e_11ec_8e3a_651b56d0386crow5_col6\" class=\"data row5 col6\" >0.743</td>\n",
       "            </tr>\n",
       "    </tbody></table>"
      ],
      "text/plain": [
       "<pandas.io.formats.style.Styler at 0x7f007c4e03d0>"
      ]
     },
     "execution_count": 6,
     "metadata": {},
     "output_type": "execute_result"
    }
   ],
   "source": [
    "df = pd.DataFrame(results)\n",
    "df = df.groupby([\"model_name\", \"input\"]).agg({\"%s_roc_auc\" % (d): \"mean\" for d in benchmark.task_name_to_task})\n",
    "df.rename(columns={k: k.replace(\"_roc_auc\", \"\") for k in df.keys()}, inplace=True)\n",
    "df.drop(\"total\",inplace=True)\n",
    "df[\"overall\"] = (df[\"factcc\"]+df[\"frank\"]+df[\"polytope\"]+df[\"cogensumm\"]+df[\"summeval\"]+df[\"xsumfaith\"]) / (6.0)\n",
    "\n",
    "df.style.apply(highlight_max).background_gradient(cmap=cm, high=1.0, low=0.0).set_precision(3).set_caption(\"ROC AUC\")"
   ]
  },
  {
   "cell_type": "code",
   "execution_count": 17,
   "metadata": {
    "ExecuteTime": {
     "end_time": "2023-07-27T11:01:19.657607100Z",
     "start_time": "2023-07-27T11:01:19.619008600Z"
    }
   },
   "outputs": [
    {
     "name": "stdout",
     "output_type": "stream",
     "text": [
      "DATASET NAME    MODEL NAME          \n",
      "==========================\n",
      "==========================\n",
      "==========================\n"
     ]
    },
    {
     "ename": "KeyError",
     "evalue": "'QuestEval'",
     "output_type": "error",
     "traceback": [
      "\u001B[1;31m---------------------------------------------------------------------------\u001B[0m",
      "\u001B[1;31mKeyError\u001B[0m                                  Traceback (most recent call last)",
      "Cell \u001B[1;32mIn[17], line 46\u001B[0m\n\u001B[0;32m     43\u001B[0m \u001B[38;5;28mprint\u001B[39m(\u001B[38;5;124m\"\u001B[39m\u001B[38;5;124m==========================\u001B[39m\u001B[38;5;124m\"\u001B[39m)\n\u001B[0;32m     44\u001B[0m \u001B[38;5;28mprint\u001B[39m(\u001B[38;5;124m\"\u001B[39m\u001B[38;5;124m==========================\u001B[39m\u001B[38;5;124m\"\u001B[39m)\n\u001B[1;32m---> 46\u001B[0m baseline \u001B[38;5;241m=\u001B[39m np\u001B[38;5;241m.\u001B[39mmean(np\u001B[38;5;241m.\u001B[39marray(\u001B[43msampled_batch_preds\u001B[49m\u001B[43m[\u001B[49m\u001B[38;5;124;43m\"\u001B[39;49m\u001B[38;5;124;43mQuestEval\u001B[39;49m\u001B[38;5;124;43m\"\u001B[39;49m\u001B[43m]\u001B[49m), axis\u001B[38;5;241m=\u001B[39m\u001B[38;5;241m0\u001B[39m)\n\u001B[0;32m     47\u001B[0m summaczs \u001B[38;5;241m=\u001B[39m np\u001B[38;5;241m.\u001B[39mmean(np\u001B[38;5;241m.\u001B[39marray(sampled_batch_preds[\u001B[38;5;124m\"\u001B[39m\u001B[38;5;124mSummaC-ZS-VITC-L\u001B[39m\u001B[38;5;124m\"\u001B[39m]), axis\u001B[38;5;241m=\u001B[39m\u001B[38;5;241m0\u001B[39m)\n\u001B[0;32m     48\u001B[0m summacconv \u001B[38;5;241m=\u001B[39m np\u001B[38;5;241m.\u001B[39mmean(np\u001B[38;5;241m.\u001B[39marray(sampled_batch_preds[\u001B[38;5;124m\"\u001B[39m\u001B[38;5;124mSummaC-Histo-VITC-L\u001B[39m\u001B[38;5;124m\"\u001B[39m]), axis\u001B[38;5;241m=\u001B[39m\u001B[38;5;241m0\u001B[39m)\n",
      "\u001B[1;31mKeyError\u001B[0m: 'QuestEval'"
     ]
    }
   ],
   "source": [
    "# Analysis with confidence interval\n",
    "strongest_baseline = {\"cogensumm\": \"DAE\", \"xsumfaith\": \"QuestEval\", \"polytope\": \"QuestEval\", \"factcc\": \"DAE\", \"summeval\": \"QuestEval\", \"frank\": \"QuestEval\"}\n",
    "\n",
    "P5 = 5 / 2 # Correction due to the fact that we are running 2 tests with the same data\n",
    "P1 = 1 / 2 # Correction due to the fact that we are running 2 tests with the same data\n",
    "\n",
    "def resample_roc_auc(scores, labels, n_samples=100, sample_ratio=0.7):\n",
    "    N = len(scores)\n",
    "    idxs = list(range(N))\n",
    "    N_batch = int(sample_ratio*N)\n",
    "\n",
    "    roc_aucs = []\n",
    "    for _ in range(n_samples):\n",
    "        random.shuffle(idxs)\n",
    "        batch_scores = [scores[i] for i in idxs[:N_batch]]\n",
    "        batch_labels = [labels[i] for i in idxs[:N_batch]]\n",
    "        roc_aucs.append(sklearn.metrics.roc_auc_score(batch_labels, batch_scores))\n",
    "    return roc_aucs\n",
    "\n",
    "sampled_batch_preds = {res[\"model_name\"]: [] for res in results}\n",
    "print(\"DATASET NAME\".ljust(15), \"MODEL NAME\".ljust(20))\n",
    "for res in results:\n",
    "    if res[\"model_name\"] == \"total\":\n",
    "        print(\"==================================================\")\n",
    "        continue\n",
    "    samples = resample_roc_auc(res[\"scores\"], res[\"labels\"])\n",
    "    sampled_batch_preds[res[\"model_name\"]].append(samples)\n",
    "    low5, high5 = np.percentile(samples, P5), np.percentile(samples, 100-P5)\n",
    "    low1, high1 = np.percentile(samples, P1), np.percentile(samples, 100-P1)\n",
    "    roc_auc = sklearn.metrics.roc_auc_score(res[\"labels\"], res[\"scores\"])\n",
    "    if \"SummaC\" in res[\"model_name\"] or res[\"model_name\"] == strongest_baseline[res[\"dataset_name\"]]:\n",
    "        print(res[\"dataset_name\"].ljust(15), res[\"model_name\"].ljust(20), \" - %.3f (%.3f - %.3f) (%.3f - %.3f)\" % (roc_auc, low5, high5, low1, high1))\n",
    "        if res[\"model_name\"] == strongest_baseline[res[\"dataset_name\"]]:\n",
    "            bl5, bh5, bl1, bh1 = low5, high5, low1, high1\n",
    "            print(\"--------------\")\n",
    "        else:\n",
    "            if low5 >= bh5:\n",
    "                print(\"Significant difference (p < 0.05)\")\n",
    "            if low1 >= bh1:\n",
    "                print(\"Significant difference (p < 0.01)\")\n",
    "\n",
    "print(\"==========================\")\n",
    "print(\"==========================\")\n",
    "print(\"==========================\")\n",
    "\n",
    "baseline = np.mean(np.array(sampled_batch_preds[\"QuestEval\"]), axis=0)\n",
    "summaczs = np.mean(np.array(sampled_batch_preds[\"SummaC-ZS-VITC-L\"]), axis=0)\n",
    "summacconv = np.mean(np.array(sampled_batch_preds[\"SummaC-Histo-VITC-L\"]), axis=0)\n",
    "\n",
    "for model in [\"QuestEval\", \"SummaC-ZS-VITC-L\", \"SummaC-Histo-VITC-L\"]:\n",
    "    samples = np.mean(np.array(sampled_batch_preds[model]), axis=0)\n",
    "    low5, high5 = np.percentile(samples, P5), np.percentile(samples, 100-P5)\n",
    "    low1, high1 = np.percentile(samples, P1), np.percentile(samples, 100-P1)\n",
    "    \n",
    "    print(\"OVERALL\".ljust(15), model.ljust(20), \" - (%.3f - %.3f) (%.3f - %.3f)\" % (low5, high5, low1, high1))"
   ]
  },
  {
   "cell_type": "code",
   "execution_count": null,
   "outputs": [],
   "source": [],
   "metadata": {
    "collapsed": false
   }
  }
 ],
 "metadata": {
  "finalized": {
   "timestamp": 1625710190289,
   "trusted": true
  },
  "interpreter": {
   "hash": "c723e9d1a9662a11de23e7914e75631adbad784f516bc181f2c98a6790ee4bb2"
  },
  "kernelspec": {
   "display_name": "Python 3",
   "language": "python",
   "name": "python3"
  },
  "language_info": {
   "codemirror_mode": {
    "name": "ipython",
    "version": 3
   },
   "file_extension": ".py",
   "mimetype": "text/x-python",
   "name": "python",
   "nbconvert_exporter": "python",
   "pygments_lexer": "ipython3",
   "version": "3.7.6"
  }
 },
 "nbformat": 4,
 "nbformat_minor": 4
}
